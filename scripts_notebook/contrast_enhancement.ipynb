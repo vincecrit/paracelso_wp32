{
 "cells": [
  {
   "cell_type": "code",
   "execution_count": 110,
   "metadata": {},
   "outputs": [
    {
     "name": "stderr",
     "output_type": "stream",
     "text": [
      "C:\\Users\\vcritell\\AppData\\Local\\Temp\\ipykernel_7480\\3776210905.py:21: MatplotlibDeprecationWarning: Passing the range parameter of hist() positionally is deprecated since Matplotlib 3.9; the parameter will become keyword-only in 3.11.\n",
      "  plt.hist(original.flatten(), 256, [0, 256], color = 'r')\n"
     ]
    },
    {
     "data": {
      "image/png": "[encoded data removed]",
      "text/plain": [
       "<Figure size 640x480 with 1 Axes>"
      ]
     },
     "metadata": {},
     "output_type": "display_data"
    }
   ],
   "source": [
    "import sys\n",
    "\n",
    "sys.path.append(\"C:/Users/vcritell/pymods/paracelso_wp32\")\n",
    "\n",
    "import cv2\n",
    "import numpy as np\n",
    "from matplotlib import pyplot as plt\n",
    "\n",
    "import ot\n",
    "import s1\n",
    "\n",
    "image_file = \"C:\\\\Users\\\\vcritell\\\\Pictures\\\\Screenshots\\\\Screenshot 2025-02-04 180759.png\"\n",
    "original = cv2.imread(image_file, 0)\n",
    "\n",
    "hist,bins = np.histogram(original.flatten(),256,[0,256])\n",
    "\n",
    "cdf = hist.cumsum()\n",
    "cdf_normalized = cdf * hist.max()/ cdf.max()\n",
    "\n",
    "plt.plot(cdf_normalized, color = 'b')\n",
    "plt.hist(original.flatten(), 256, [0, 256], color = 'r')\n",
    "plt.xlim([0,256])\n",
    "plt.legend(('cdf','histogram'), loc = 'upper left')\n",
    "plt.show()"
   ]
  },
  {
   "cell_type": "code",
   "execution_count": 78,
   "metadata": {},
   "outputs": [],
   "source": [
    "cdf_m = np.ma.masked_equal(cdf,0)\n",
    "cdf_m = (cdf_m - cdf_m.min())*255/(cdf_m.max()-cdf_m.min())\n",
    "cdf = np.ma.filled(cdf_m,0).astype('uint8')"
   ]
  },
  {
   "cell_type": "code",
   "execution_count": null,
   "metadata": {},
   "outputs": [
    {
     "data": {
      "text/plain": [
       "True"
      ]
     },
     "execution_count": 79,
     "metadata": {},
     "output_type": "execute_result"
    }
   ],
   "source": [
    "original = cv2.imread(image_file, 0)\n",
    "equ = cv2.equalizeHist(original)\n",
    "res = np.hstack((original,equ)) #stacking images side-by-side\n",
    "cv2.imwrite('histeq.png',res)"
   ]
  },
  {
   "cell_type": "code",
   "execution_count": null,
   "metadata": {},
   "outputs": [
    {
     "data": {
      "text/plain": [
       "True"
      ]
     },
     "execution_count": 86,
     "metadata": {},
     "output_type": "execute_result"
    }
   ],
   "source": [
    "original = cv2.imread(image_file, 1)\n",
    "\n",
    "eq = list()\n",
    "for i in range(original.shape[-1]):\n",
    "    band = original[:, :, i].copy()\n",
    "    equ = cv2.equalizeHist(band)\n",
    "    eq.append(equ)\n",
    "\n",
    "\n",
    "res = np.hstack((original,cv2.merge(eq)))\n",
    "cv2.imwrite('histeq_rgb.png',res)"
   ]
  },
  {
   "cell_type": "code",
   "execution_count": null,
   "metadata": {},
   "outputs": [],
   "source": [
    "def _clahe(band, clip_limit: float = 2., kernel_size: int | tuple[int] = 3,\n",
    "           mask=None, nodata: int | float | None = np.nan):\n",
    "    \"\"\"Contrast limited adaptive histogram equalization\"\"\"\n",
    "    if mask is None:\n",
    "        mask = np.zeros_like(band).astype(bool)\n",
    "    \n",
    "    if isinstance(kernel_size, int):\n",
    "        kernel_size = kernel_size, kernel_size\n",
    "        \n",
    "    clahe = cv2.createCLAHE(clipLimit=clip_limit, tileGridSize=kernel_size)\n",
    "    clahe_band = clahe.apply(band)\n",
    "    clahe_band[mask] = nodata\n",
    "    return clahe_band\n"
   ]
  },
  {
   "cell_type": "code",
   "execution_count": null,
   "metadata": {},
   "outputs": [],
   "source": [
    "original = cv2.imread(image_file,0)\n",
    "\n",
    "for BS in [4, 8, 16, 32, 64, 128]:\n",
    "    clahe = cv2.createCLAHE(clipLimit=2., tileGridSize=(BS, BS))\n",
    "    clahe_img = clahe.apply(original)\n",
    "    stacked = np.hstack([original, clahe_img])\n",
    "    cv2.imwrite(f\"clahe_{BS}.png\", stacked)"
   ]
  },
  {
   "cell_type": "code",
   "execution_count": 109,
   "metadata": {},
   "outputs": [],
   "source": [
    "original = cv2.imread(image_file,1)\n",
    "BS = 16\n",
    "for CL in np.arange(0, 10, 0.5):\n",
    "    clhs = list()\n",
    "    for band in cv2.split(original):\n",
    "        clahe = cv2.createCLAHE(clipLimit=CL, tileGridSize=(BS, BS))\n",
    "        clhs.append(clahe.apply(band))\n",
    "    \n",
    "    clahe_img = cv2.merge(clhs)\n",
    "    stacked = np.hstack([original, clahe_img])\n",
    "    cv2.imwrite(f\"clahe_BS{BS}CL{CL:.2f}_rgb.png\", stacked)"
   ]
  }
 ],
 "metadata": {
  "kernelspec": {
   "display_name": "paracelso",
   "language": "python",
   "name": "python3"
  },
  "language_info": {
   "codemirror_mode": {
    "name": "ipython",
    "version": 3
   },
   "file_extension": ".py",
   "mimetype": "text/x-python",
   "name": "python",
   "nbconvert_exporter": "python",
   "pygments_lexer": "ipython3",
   "version": "3.13.1"
  }
 },
 "nbformat": 4,
 "nbformat_minor": 2
}
