{
 "cells": [
  {
   "cell_type": "code",
   "execution_count": null,
   "id": "1371437f",
   "metadata": {},
   "outputs": [],
   "source": [
    "import sys\n",
    "\n",
    "from ot import image_processing\n",
    "try:\n",
    "    import ot\n",
    "\n",
    "except ModuleNotFoundError:\n",
    "    sys.path.append(\"../\")\n",
    "\n",
    "    from ot import interfaces, algoritmi, coreg, metodi"
   ]
  },
  {
   "cell_type": "code",
   "execution_count": 4,
   "id": "00fb747f",
   "metadata": {},
   "outputs": [],
   "source": [
    "from dataclasses import dataclass"
   ]
  },
  {
   "cell_type": "code",
   "execution_count": 93,
   "id": "9ac46063",
   "metadata": {},
   "outputs": [],
   "source": [
    "def __gen(n):\n",
    "    for i in range(n):\n",
    "        yield f\"b{i+1}\""
   ]
  },
  {
   "cell_type": "code",
   "execution_count": 181,
   "id": "011fad83",
   "metadata": {},
   "outputs": [],
   "source": [
    "class Image:\n",
    "    def __init__(self, *args):\n",
    "        self.bandnames = tuple((f\"B{i+1}\" for i in range(len(args))))\n",
    "        for name, arg in zip(self.bandnames, args):\n",
    "            setattr(self, name, arg)\n",
    "    \n",
    "    def __iter__(self):\n",
    "        for band in self.bandnames:\n",
    "            yield self.__getattribute__(band)\n",
    "        \n",
    "    def __getitem__(self, __index):\n",
    "        name = list(self.bandnames)[__index]\n",
    "        return self.__getattribute__(name)\n",
    "    \n",
    "    def get_band(self, n: str | int | None = None):\n",
    "        if n in self.bandnames:\n",
    "            return self.__getattribute__(n)\n",
    "        \n",
    "        elif isinstance(n, int):\n",
    "            return self[n]\n",
    "        \n",
    "        elif n is None:\n",
    "            return self\n"
   ]
  },
  {
   "cell_type": "code",
   "execution_count": 184,
   "id": "def28003",
   "metadata": {},
   "outputs": [
    {
     "name": "stdout",
     "output_type": "stream",
     "text": [
      "0 [[234 218 252 ... 101 248 222]\n",
      " [ 24  58   0 ...  64  20 122]\n",
      " [213 154 182 ... 139 204  63]\n",
      " ...\n",
      " [199 124 197 ... 119  92  96]\n",
      " [253 105 251 ... 217  16 190]\n",
      " [  1  63 243 ... 122 120 219]]\n",
      "1 [[123 158  57 ... 209 134 164]\n",
      " [149 108  19 ... 148 237 193]\n",
      " [ 94  78  82 ...  14 193 109]\n",
      " ...\n",
      " [147 177  87 ...  74  62  86]\n",
      " [253  98 227 ... 183 241 230]\n",
      " [213 188  75 ... 252 156  67]]\n",
      "2 [[ 25 130  38 ... 186 116 108]\n",
      " [ 22  49 108 ...  50   1  80]\n",
      " [246 202  51 ... 250  40 168]\n",
      " ...\n",
      " [208 128 112 ... 114 148 161]\n",
      " [  4  53 200 ... 203  90  60]\n",
      " [109 178  26 ... 122 161  15]]\n",
      "3 [[180 150  43 ... 170  15 197]\n",
      " [214  84 150 ...  66 192 198]\n",
      " [157 230 205 ... 197   7 245]\n",
      " ...\n",
      " [ 30 126  79 ... 208 197 184]\n",
      " [  7 131 111 ...  56  44 226]\n",
      " [236  61 114 ... 104 243 192]]\n",
      "4 [[163 135 178 ... 139 150  89]\n",
      " [ 58 211 115 ... 160 151   8]\n",
      " [216  64 106 ... 201  38  97]\n",
      " ...\n",
      " [114  79 186 ... 180 123  43]\n",
      " [120 220 185 ... 138  40 173]\n",
      " [182 129 203 ... 235  46 159]]\n",
      "5 [[110 116  85 ...  92 253 198]\n",
      " [180 104 184 ...  15  40 103]\n",
      " [ 16 212 157 ... 148 128 125]\n",
      " ...\n",
      " [144  27  34 ...  86  35 235]\n",
      " [104 147  40 ... 111  30 118]\n",
      " [ 68   6 167 ... 203 102 170]]\n",
      "6 [[145 188 172 ... 210 136  76]\n",
      " [ 97  13 131 ...  76 189 123]\n",
      " [ 46 208   7 ...  25  28  70]\n",
      " ...\n",
      " [219 244 197 ... 214 101 113]\n",
      " [204  52 216 ... 105 121 182]\n",
      " [169 248  93 ... 254 212  98]]\n",
      "7 [[ 57 180 228 ... 150 235  99]\n",
      " [187 149 173 ... 120 139  80]\n",
      " [ 63 114  87 ... 233 122 245]\n",
      " ...\n",
      " [178  63 148 ...  40 157 200]\n",
      " [124  47 243 ... 236  16 239]\n",
      " [223 239  12 ... 149 172 121]]\n",
      "8 [[175  12 214 ... 183  72 211]\n",
      " [ 21  73  52 ... 164 120 208]\n",
      " [ 38  29 158 ... 184 241  28]\n",
      " ...\n",
      " [ 59 199 182 ...  86 175 197]\n",
      " [227  13 132 ...  55  96  21]\n",
      " [247 124 236 ...  24 185 166]]\n",
      "9 [[230  69 253 ...  32  61 119]\n",
      " [194  86 130 ... 202 229  23]\n",
      " [152  43 119 ...  41   3  85]\n",
      " ...\n",
      " [235  50  46 ...  38 192  20]\n",
      " [187  75   9 ...  31 112 195]\n",
      " [ 33  47 203 ... 246 104  28]]\n",
      "10 [[181  49   3 ...  86  27 162]\n",
      " [218 103 214 ...  74  32  85]\n",
      " [ 66 254 184 ... 217 127 154]\n",
      " ...\n",
      " [177  94  10 ... 239 131  23]\n",
      " [173 240  19 ... 211 224  98]\n",
      " [159  25 107 ... 217 218  52]]\n",
      "11 [[160 108  96 ...  24 180 170]\n",
      " [217  33 191 ...  37  52  77]\n",
      " [239  46   2 ... 120 146 222]\n",
      " ...\n",
      " [102 106 189 ... 152  94 102]\n",
      " [177  82  45 ...  95   5  57]\n",
      " [111 131 237 ... 149  98 141]]\n",
      "12 [[ 89 253  86 ... 236 144  52]\n",
      " [181 106  98 ... 243 172   0]\n",
      " [176  29 105 ...  72   7 244]\n",
      " ...\n",
      " [235  26  29 ...  88 247 142]\n",
      " [ 12 156   7 ... 234 114 144]\n",
      " [242 177 139 ... 128 177  77]]\n",
      "13 [[181 243 122 ...  79  40  24]\n",
      " [137 181 237 ...  73 166  59]\n",
      " [ 36 208  52 ... 244 114 140]\n",
      " ...\n",
      " [187 150 124 ...  43 214 127]\n",
      " [224  28   1 ... 113 118 105]\n",
      " [198  32 118 ... 200 230  15]]\n",
      "14 [[132  75 235 ... 234 222 169]\n",
      " [ 28  68   9 ... 235 100 223]\n",
      " [ 95  63  73 ... 112 212 190]\n",
      " ...\n",
      " [180 166 219 ...  78 102  54]\n",
      " [199 231 116 ... 226 195 124]\n",
      " [167  35 190 ... 178   4  89]]\n",
      "15 [[213 118  76 ...  33 144  89]\n",
      " [213 110 231 ... 190 232 188]\n",
      " [ 73 157  31 ...  16 142  85]\n",
      " ...\n",
      " [ 12  58 193 ... 119  83 167]\n",
      " [ 64  47  97 ... 123  79  45]\n",
      " [ 10 212 215 ... 206  44  74]]\n",
      "16 [[145 164  42 ...  21 244 207]\n",
      " [231 227  94 ...  32 175 211]\n",
      " [204 210   2 ... 201  30 224]\n",
      " ...\n",
      " [142 148 195 ... 222 111  49]\n",
      " [212 140  89 ...  64  65 197]\n",
      " [191 138   1 ...  35 105 207]]\n",
      "17 [[150 187  39 ...   9 167 237]\n",
      " [135 239  35 ... 154   3  59]\n",
      " [228 191  24 ... 194  47 136]\n",
      " ...\n",
      " [184 139  58 ...  71   4  30]\n",
      " [  1 128 239 ...  64 242  98]\n",
      " [ 21  10 156 ... 162 131 110]]\n",
      "18 [[  2  26  83 ... 174  51   1]\n",
      " [239  52 230 ... 204  30 141]\n",
      " [ 71  76 102 ... 157 148 188]\n",
      " ...\n",
      " [ 19  82  66 ... 168  63  28]\n",
      " [ 79 123 214 ... 123 177  48]\n",
      " [ 38 146 190 ... 201  70 107]]\n"
     ]
    }
   ],
   "source": [
    "import numpy as np\n",
    "\n",
    "i = Image(*np.random.randint(0, 255, (19, 102, 234)))\n",
    "\n",
    "for n, band in enumerate(i):\n",
    "    print(n, band)"
   ]
  },
  {
   "cell_type": "code",
   "execution_count": 60,
   "id": "b6f30885",
   "metadata": {},
   "outputs": [],
   "source": [
    "from collections import namedtuple\n",
    "\n",
    "\n",
    "Band = namedtuple(\"Band\", ['RED', 'GREEN', 'BLUE'])"
   ]
  },
  {
   "cell_type": "code",
   "execution_count": 66,
   "id": "c2ed8044",
   "metadata": {},
   "outputs": [],
   "source": [
    "class Band(list):\n",
    "    def __init__(self, *args, **kwargs):\n",
    "        super().__init__(*args, **kwargs)"
   ]
  },
  {
   "cell_type": "code",
   "execution_count": 70,
   "id": "f47beeea",
   "metadata": {},
   "outputs": [],
   "source": [
    "from collections import OrderedDict"
   ]
  },
  {
   "cell_type": "code",
   "execution_count": null,
   "id": "3dfb1f09",
   "metadata": {},
   "outputs": [],
   "source": [
    "class Image:\n",
    "    def __init__(self, *args):\n",
    "        for name, arg in zip(range(999), args):\n",
    "            setattr(self, str(name), arg)\n",
    "    \n",
    "    def __iter__(self)"
   ]
  },
  {
   "cell_type": "code",
   "execution_count": 86,
   "id": "f595a238",
   "metadata": {},
   "outputs": [
    {
     "data": {
      "text/plain": [
       "34"
      ]
     },
     "execution_count": 86,
     "metadata": {},
     "output_type": "execute_result"
    }
   ],
   "source": [
    "i = Image(12, 12, 23, 34, 5)\n",
    "\n",
    "i.__getattribute__('3')"
   ]
  },
  {
   "cell_type": "code",
   "execution_count": 33,
   "id": "bdaac1f2-6eb6-4ec0-a4c5-1b3e8d637c81",
   "metadata": {
    "scrolled": true
   },
   "outputs": [],
   "source": [
    "class Algorithm:\n",
    "    def __init__(self, a, b, c, d, e, f, g):\n",
    "        self.a = a\n",
    "        self.b = b\n",
    "        self.c = c\n",
    "        self.d = d\n",
    "        self.e = e\n",
    "        self.f = f\n",
    "        self.g = g\n",
    "\n",
    "    @staticmethod\n",
    "    def from_dict(__d: dict):\n",
    "        keys = list(\"abcdefg\")\n",
    "\n",
    "        kw = dict()\n",
    "        for key in keys:\n",
    "            kw[key] = __d.get(key)\n",
    "        \n",
    "        return Algorithm(**kw)\n",
    "\n",
    "\n",
    "class Operation:\n",
    "    def __init__(self, method):\n",
    "        self.method = method\n",
    "\n",
    "    def __call__(self, **kw):\n",
    "        m = self.method.from_dict(kw)\n",
    "        print(f\"{kw['h'] = }\")"
   ]
  },
  {
   "cell_type": "code",
   "execution_count": 35,
   "id": "6eb29e16-2e8a-4d3c-94e6-e6acd56d8f24",
   "metadata": {},
   "outputs": [
    {
     "name": "stdout",
     "output_type": "stream",
     "text": [
      "kw['h'] = 10\n"
     ]
    }
   ],
   "source": [
    "o = Operation(Algorithm)\n",
    "\n",
    "keys = list(\"abcdefgh\")\n",
    "values = [*range(3, 8+3)]\n",
    "\n",
    "kw = dict(zip(keys, values))\n",
    "o(**kw)"
   ]
  },
  {
   "cell_type": "code",
   "execution_count": null,
   "id": "58edec26",
   "metadata": {},
   "outputs": [],
   "source": [
    "\n",
    "# Interfaccia comune per tutti gli algoritmi di offset tracking, con parametri aggiuntivi\n",
    "class RasterDisplacement(ABC):\n",
    "\n",
    "    @staticmethod\n",
    "    def from_dict(__d: dict): ...\n",
    "\n",
    "    @staticmethod\n",
    "    def from_JSON(__json: Path | str):\n",
    "        __d = json.loads(Path(__json).read_text())\n",
    "\n",
    "        return RasterDisplacement.from_dict(__d)\n",
    "\n",
    "    @staticmethod\n",
    "    def from_YAML(__yaml: Path | str):\n",
    "        import yaml\n",
    "\n",
    "        __d = yaml.safe_load(Path(__yaml).read_text())\n",
    "\n",
    "        return RasterDisplacement.from_dict(__d)\n",
    "\n",
    "    def toJSON(self):\n",
    "\n",
    "        try:\n",
    "            parms = self.__dict__\n",
    "            parms['flags'] = self.flags.value\n",
    "        except AttributeError:\n",
    "            parms = self.__dict__\n",
    "\n",
    "        return json.dumps(parms, indent=4)\n",
    "    \n",
    "    @abstractmethod\n",
    "    def run(self, *args, **kwargs):\n",
    "        pass\n"
   ]
  },
  {
   "cell_type": "code",
   "execution_count": 56,
   "id": "6d02bc64",
   "metadata": {},
   "outputs": [],
   "source": [
    "import rasterio\n",
    "from rasterio import Affine, transform\n",
    "\n",
    "\n",
    "def write_raster(fpath: str | Path, array: np.ndarray, metadata: dict) -> None:\n",
    "\n",
    "    if array.ndim > 2:\n",
    "        nbands = array.shape[0]\n",
    "    else:\n",
    "        nbands = 1\n",
    "\n",
    "    with rasterio.open(fp=str(fpath), mode='w', **metadata) as dst:\n",
    "        dst.write(array, nbands)\n",
    "\n",
    "\n",
    "class Raster:\n",
    "    def __init__(self, array: np.ndarray,\n",
    "                 metadata: dict,\n",
    "                 mask: np.ndarray | None = None) -> None:\n",
    "        \n",
    "        self.array = array\n",
    "        self.metadata = metadata\n",
    "        self.mask = mask\n",
    "\n",
    "    def write_raster(self, filename): ...\n",
    "\n",
    "    @staticmethod\n",
    "    def read_raster(self, filename, **kwargs):\n",
    "\n",
    "        band = kwargs.get('band', 1)\n",
    "\n",
    "        with rasterio.open(filename, 'r', **kwargs) as rds:\n",
    "            array = rds.read(band).astype(np.float32)\n",
    "            mask = ~rds.dataset_mask().astype(bool)\n",
    "            meta = rds.meta\n",
    "            meta['dtype'] = 'float32'\n",
    "\n",
    "        if mask.ndim != array.ndim:\n",
    "            mask = np.repeat(mask[np.newaxis, ...], array.ndim, axis=0)\n",
    "\n",
    "        return Raster(array, meta, mask)\n",
    "    "
   ]
  },
  {
   "cell_type": "code",
   "execution_count": 30,
   "id": "d5d2a6d5",
   "metadata": {},
   "outputs": [],
   "source": [
    "class Alg1(RasterDisplacement):\n",
    "    def __init__(self, a, b, c):\n",
    "        self.a = a\n",
    "        self.b = b\n",
    "        self.c = c\n",
    "\n",
    "    def from_dict(__d: dict):\n",
    "        keys = [\n",
    "            \"a\",\n",
    "            \"b\",\n",
    "            \"c\"\n",
    "        ]\n",
    "\n",
    "        kw = dict()\n",
    "        for key in keys:\n",
    "            kw[key] = __d.get(key, None)\n",
    "\n",
    "        return Alg1(**kw)\n",
    "    \n",
    "    def run(self, reference, target):\n",
    "        return (reference * target) * (self.a * (self.b**self.c))"
   ]
  },
  {
   "cell_type": "code",
   "execution_count": 55,
   "id": "4de7a0ec",
   "metadata": {},
   "outputs": [
    {
     "data": {
      "text/plain": [
       "array([[4.26425764, 1.68417392, 0.23250655, ..., 2.27289342, 0.18301154,\n",
       "        4.14604602],\n",
       "       [0.28160721, 3.22186233, 0.80401931, ..., 0.09780284, 1.49502781,\n",
       "        0.49083635],\n",
       "       [1.62421028, 1.81317085, 3.06475166, ..., 2.09133113, 0.39998904,\n",
       "        1.05289761],\n",
       "       ...,\n",
       "       [3.62856853, 0.11560847, 1.13257494, ..., 0.33419445, 0.10323042,\n",
       "        0.40788751],\n",
       "       [0.04641018, 3.88007568, 0.54648988, ..., 2.37805085, 1.06878146,\n",
       "        0.31393265],\n",
       "       [0.03095252, 3.00622249, 0.7329174 , ..., 3.93609606, 1.88066385,\n",
       "        1.06475609]])"
      ]
     },
     "execution_count": 55,
     "metadata": {},
     "output_type": "execute_result"
    }
   ],
   "source": [
    "params = dict(a=15.3,\n",
    "              b=124.23, \n",
    "              c=-0.2)\n",
    "\n",
    "reference = np.random.rand(1000, 1000)\n",
    "target = np.random.rand(1000, 1000)\n",
    "Alg1(**params).run(reference, target)"
   ]
  },
  {
   "cell_type": "code",
   "execution_count": 1,
   "id": "bc2c73ad",
   "metadata": {},
   "outputs": [
    {
     "ename": "ModuleNotFoundError",
     "evalue": "No module named 'paracelso_wp32'",
     "output_type": "error",
     "traceback": [
      "\u001b[1;31m---------------------------------------------------------------------------\u001b[0m",
      "\u001b[1;31mModuleNotFoundError\u001b[0m                       Traceback (most recent call last)",
      "Cell \u001b[1;32mIn[1], line 1\u001b[0m\n\u001b[1;32m----> 1\u001b[0m \u001b[38;5;28;01mfrom\u001b[39;00m\u001b[38;5;250m \u001b[39m\u001b[38;5;21;01mparacelso_wp32\u001b[39;00m\u001b[38;5;250m \u001b[39m\u001b[38;5;28;01mimport\u001b[39;00m s1\n",
      "\u001b[1;31mModuleNotFoundError\u001b[0m: No module named 'paracelso_wp32'"
     ]
    }
   ],
   "source": [
    "from paracelso_wp32 import s1"
   ]
  }
 ],
 "metadata": {
  "kernelspec": {
   "display_name": "wp32",
   "language": "python",
   "name": "python3"
  },
  "language_info": {
   "codemirror_mode": {
    "name": "ipython",
    "version": 3
   },
   "file_extension": ".py",
   "mimetype": "text/x-python",
   "name": "python",
   "nbconvert_exporter": "python",
   "pygments_lexer": "ipython3",
   "version": "3.12.8"
  }
 },
 "nbformat": 4,
 "nbformat_minor": 5
}
