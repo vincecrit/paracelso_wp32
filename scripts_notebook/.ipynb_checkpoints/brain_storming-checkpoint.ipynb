{
 "cells": [
  {
   "cell_type": "code",
   "execution_count": 31,
   "id": "bdaac1f2-6eb6-4ec0-a4c5-1b3e8d637c81",
   "metadata": {
    "scrolled": true
   },
   "outputs": [],
   "source": [
    "class Algorithm:\n",
    "    def __init__(self, a, b, c, d, e, f, g):\n",
    "        self.a = a\n",
    "        self.b = b\n",
    "        self.c = c\n",
    "        self.d = d\n",
    "        self.e = e\n",
    "        self.f = f\n",
    "        self.g = g\n",
    "\n",
    "    @staticmethod\n",
    "    def from_dict(__d: dict):\n",
    "        keys = list(\"abcdefg\")\n",
    "\n",
    "        kw = dict()\n",
    "        for key in keys:\n",
    "            kw[key] = __d.get(key)\n",
    "        \n",
    "        return Algorithm(**kw)\n",
    "\n",
    "\n",
    "class Operation:\n",
    "    def __init__(self, method):\n",
    "        self.method = method\n",
    "\n",
    "    def __call__(self, **kw):\n",
    "        m = self.method.from_dict(kw)\n",
    "        print(f\"{kw['h'] = }\")"
   ]
  },
  {
   "cell_type": "code",
   "execution_count": 32,
   "id": "6eb29e16-2e8a-4d3c-94e6-e6acd56d8f24",
   "metadata": {},
   "outputs": [
    {
     "name": "stdout",
     "output_type": "stream",
     "text": [
      "kw['h'] = 7\n"
     ]
    }
   ],
   "source": [
    "o = Operation(Algorithm)\n",
    "\n",
    "keys = list(\"abcdefgh\")\n",
    "values = [*range(8)]\n",
    "\n",
    "kw = dict(zip(keys, values))\n",
    "o(**kw)"
   ]
  },
  {
   "cell_type": "code",
   "execution_count": null,
   "id": "775cecb3-296e-4dd0-91e8-4992b14dec3b",
   "metadata": {},
   "outputs": [],
   "source": []
  }
 ],
 "metadata": {
  "kernelspec": {
   "display_name": "Python 3 (ipykernel)",
   "language": "python",
   "name": "python3"
  },
  "language_info": {
   "codemirror_mode": {
    "name": "ipython",
    "version": 3
   },
   "file_extension": ".py",
   "mimetype": "text/x-python",
   "name": "python",
   "nbconvert_exporter": "python",
   "pygments_lexer": "ipython3",
   "version": "3.12.2"
  }
 },
 "nbformat": 4,
 "nbformat_minor": 5
}
